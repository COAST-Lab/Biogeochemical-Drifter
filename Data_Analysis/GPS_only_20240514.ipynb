{
 "cells": [
  {
   "cell_type": "markdown",
   "id": "5a71835f-b27c-4887-9667-4393c94791b2",
   "metadata": {},
   "source": [
    "# Initial GPS data analysis\n",
    "Reading in data from Lail and Grimes data collection from 9-May-2024 and plotting"
   ]
  },
  {
   "cell_type": "code",
   "execution_count": 1,
   "id": "4c56e4d0-e97a-46e8-9a63-9d2fe06d8313",
   "metadata": {},
   "outputs": [],
   "source": [
    "import pandas as pd\n",
    "import numpy as np\n",
    "import os\n",
    "import matplotlib.pyplot as plt\n",
    "import datetime\n",
    "\n",
    "import cartopy.crs as ccrs\n",
    "import cartopy.io.img_tiles as cimgt\n",
    "from cartopy.mpl.gridliner import LONGITUDE_FORMATTER, LATITUDE_FORMATTER"
   ]
  },
  {
   "cell_type": "code",
   "execution_count": null,
   "id": "f9b1ed77-7830-4dd4-9081-de5c9c589097",
   "metadata": {},
   "outputs": [],
   "source": []
  }
 ],
 "metadata": {
  "kernelspec": {
   "display_name": "Python 3 (ipykernel)",
   "language": "python",
   "name": "python3"
  },
  "language_info": {
   "codemirror_mode": {
    "name": "ipython",
    "version": 3
   },
   "file_extension": ".py",
   "mimetype": "text/x-python",
   "name": "python",
   "nbconvert_exporter": "python",
   "pygments_lexer": "ipython3",
   "version": "3.8.13"
  }
 },
 "nbformat": 4,
 "nbformat_minor": 5
}
