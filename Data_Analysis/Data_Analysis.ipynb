{
 "cells": [
  {
   "cell_type": "markdown",
   "id": "771b89fe-fb1d-4c40-bd30-97331f709aad",
   "metadata": {},
   "source": [
    "<h1 style = \"font-size:3rem;color:blue;\"> Drifter Data Analysis</h1>\n",
    "\n"
   ]
  },
  {
   "cell_type": "markdown",
   "id": "7277d2e9-2f9e-4c1e-b323-a8a4c4a40f87",
   "metadata": {},
   "source": [
    "Data formatting for Biogeochemical Drifter field observations\n"
   ]
  },
  {
   "cell_type": "code",
   "execution_count": 3,
   "id": "cf6f5558-7de6-4939-9401-2377ed456259",
   "metadata": {
    "tags": []
   },
   "outputs": [],
   "source": [
    "import pandas as pd\n",
    "import numpy as np\n",
    "import os\n",
    "import matplotlib.pyplot as plt\n",
    "import datetime\n",
    "\n",
    "import cartopy.crs as ccrs\n",
    "import cartopy.io.img_tiles as cimgt\n",
    "import cartopy.feature as cfeature\n",
    "from cartopy.mpl.gridliner import LONGITUDE_FORMATTER, LATITUDE_FORMATTER"
   ]
  },
  {
   "cell_type": "markdown",
   "id": "ebdfc4b4-1313-4f7d-8f72-51dfca3579f4",
   "metadata": {},
   "source": [
    "Read in data and parse by column header\n"
   ]
  },
  {
   "cell_type": "code",
   "execution_count": null,
   "id": "51816ca7-726a-471d-ad39-e8a2824a36f4",
   "metadata": {
    "tags": []
   },
   "outputs": [],
   "source": [
    "filename = '00000005'\n",
    "\n",
    "YSIfilename = 'Mar24YSIData'\n",
    "\n",
    "fullname = filename+'.csv'\n",
    "\n",
    "YSIfullname = YSIfilename+ '.csv'\n",
    "\n",
    "filepath = os.path.join('D:', fullname) # PJB: changed from \"'D', fullname\" to \"'Data', fullname\"\n",
    "\n",
    "YSIfilepath = os.path.join('D:', YSIfullname) # PJB: ditto\n",
    "\n",
    "\n",
    "df = pd.read_csv(filepath, parse_dates = [[0, 1]], header = None, date_format = '%m/%d/%Y %H:%M:%S')\n",
    "\n",
    "YSIdf = pd.read_csv(YSIfilepath, parse_dates = [[0, 1]], header = None, encoding = 'utf-16', skiprows = 17)\n",
    "df.columns = ['time', 'elapsed time (sec)', 'lat_raw', 'N or S', 'lon_raw', 'E or W', 'altitude', 'speed', 'angle', 'pH', 'Temperature (C)', 'DO (mg/L)', 'Conductivity (uS/cm)']\n",
    "\n",
    "YSIdf.columns = ['Time',\t'Time (Fract. Sec)',\t'Site Name',\t'Chlorophyll RFU',\t'Cond µS/cm',\t'Depth m',\t'fDOM QSU',\t'fDOM RFU',\t'nLF Cond µS/cm',\t'ODO % sat',\t'ODO % local',\t'ODO mg/L',\t'Pressure psi a',\t'Sal psu',\t'SpCond µS/cm',\t'TAL PE RFU',\t'TDS mg/L',\t'Turbidity FNU',\t'TSS mg/L',\t'pH',\t'pH mV',\t'Temp °C',\t'Vertical Position m',\t'GPS Latitude °',\t'GPS Longitude °',\t'Altitude m',\t'Battery V',\t'Cable Pwr V',\t'Barometer mmHg']\n",
    " \n",
    "\n",
    "df = df.truncate(before= 250, copy = None)\n",
    "\n",
    "\n",
    "df.head()\n",
    "\n",
    "YSIdf.head()\n",
    "\n"
   ]
  },
  {
   "cell_type": "code",
   "execution_count": null,
   "id": "8bec9a8d-9d80-4268-b7b2-8eb8646c9749",
   "metadata": {
    "tags": []
   },
   "outputs": [],
   "source": [
    "def lat_convert(lat_badfmt):\n",
    "    \"\"\"Convert latitude from DDDMM.MMMM format to decimal degrees.\"\"\"\n",
    "    try:\n",
    "        lat_badfmt = str(lat_badfmt)\n",
    "        lat_DD = int(float(lat_badfmt) / 100)  # Extract degrees\n",
    "        lat_MM = float(lat_badfmt) - lat_DD * 100  # Extract minutes\n",
    "        return lat_DD + lat_MM / 60  # Convert to decimal degrees\n",
    "    except ValueError:\n",
    "        return None  # Return None if conversion fails\n",
    "\n",
    "def lon_convert(lon_badfmt):\n",
    "    \"\"\"Convert longitude from DDDMM.MMMM format to decimal degrees.\"\"\"\n",
    "    try:\n",
    "        lon_badfmt = str(lon_badfmt)\n",
    "        lon_DD = int(float(lon_badfmt) / 100)  # Extract degrees\n",
    "        lon_MM = float(lon_badfmt) - lon_DD * 100  # Extract minutes\n",
    "        return lon_DD + lon_MM / 60  # Convert to decimal degrees\n",
    "    except ValueError:\n",
    "        return None  # Return None if conversion fails\n",
    "\n",
    "# Apply conversions\n",
    "df['lat'] = df['lat_raw'].apply(lat_convert)\n",
    "df['lon'] = df['lon_raw'].apply(lon_convert)\n",
    "\n",
    "# Fix South (negative latitudes)\n",
    "df.loc[df['N or S'] == 'S', 'lat'] *= -1\n",
    "\n",
    "# Fix West (negative longitudes)\n",
    "df.loc[df['E or W'] == 'W', 'lon'] *= -1\n",
    "\n",
    "# Check output\n",
    "df.head()\n"
   ]
  },
  {
   "cell_type": "code",
   "execution_count": null,
   "id": "79ca900f-9802-4079-b10c-0e6260d101d5",
   "metadata": {
    "tags": []
   },
   "outputs": [],
   "source": [
    "def plot_gps_points(lon, lat):\n",
    "     fig, ax = plt.subplots(subplot_kw={'projection': ccrs.PlateCarree()}) \n",
    "     stamen_terrain = cimgt.Stamen('terrain')\n",
    "     ax.add_image(stamen_terrain, 8)\n",
    "    \n",
    "    # Plot the GPS points\n",
    "     ax.plot(lon, lat, 'bo', markersize=5, transform=ccrs.PlateCarree())\n",
    "    \n",
    "    # Add gridlines\n",
    "     gl = ax.gridlines(draw_labels=True)\n",
    "     gl.xlabels_top = False\n",
    "     gl.ylabels_right = False\n",
    "     gl.xformatter = LONGITUDE_FORMATTER\n",
    "     gl.yformatter = LATITUDE_FORMATTER\n",
    "    \n",
    "     plt.show(df.lon,df.lat)\n"
   ]
  },
  {
   "cell_type": "code",
   "execution_count": null,
   "id": "fbc07c60-13bd-4179-9920-df4f42ef6925",
   "metadata": {
    "tags": []
   },
   "outputs": [],
   "source": [
    "## Mapbox\n",
    "map_id = 'streets-v11'\n",
    "base_layer_mapbox = cimgt.MapboxTiles(mapbox_access_token, map_id=map_id)\n",
    "tile_zoom_mapbox = 20\n",
    "## DEFINE BASE_LAYER AND TILE_ZOOM HERE!\n",
    "base_layer = base_layer_mapbox\n",
    "tile_zoom = tile_zoom_mapbox\n",
    "\n",
    "# Get desired variable\n",
    "var_name = 'depth (cm)' # selected from columns above\n",
    "plot_var = df[var_name]\n",
    "lat = df['lat']\n",
    "lon = df['lon']\n",
    "\n",
    "plot_var_min  = min(plot_var) # set manually if desired\n",
    "plot_var_max  = max(plot_var)\n",
    "fontsize = 16\n",
    "# Define CRS\n",
    "crs = ccrs.PlateCarree() # won't work without this below\n",
    "\n",
    "## Set plot lims\n",
    "# Get current corners\n",
    "lllat = np.nanmin(lat)\n",
    "lllon = np.nanmin(lon)\n",
    "urlat = np.nanmax(lat)\n",
    "urlon = np.nanmax(lon)\n",
    "\n",
    "# Calculate range in spatial vars\n",
    "lat_diff = urlat-lllat\n",
    "lon_diff = urlon-lllon\n",
    "\n",
    "# How much padding to add--subjective\n",
    "lat_frac = 0.1\n",
    "lon_frac = 0.1\n",
    "\n",
    "# Calculate new plot corners\n",
    "lllat_plot = lllat-lat_diff*lat_frac\n",
    "urlat_plot = urlat+lat_diff*lat_frac\n",
    "lllon_plot = lllon-lon_diff*lon_frac\n",
    "urlon_plot = urlon+lon_diff*lon_frac\n",
    "\n",
    "fig = plt.figure(figsize = (16, 16))\n",
    "\n",
    "# Create a GeoAxes in the tile's projection.\n",
    "ax = fig.add_subplot(1, 1, 1, projection=base_layer.crs)\n",
    "\n",
    "# Limit the extent of the map to a small longitude/latitude range.\n",
    "ax.set_extent([lllon_plot, urlon_plot, lllat_plot, urlat_plot], crs=crs)\n",
    "\n",
    "# Add the Stamen data at certain zoom level.\n",
    "ax.add_image(base_layer, tile_zoom)\n",
    "\n",
    "# Plot data\n",
    "sc = plt.scatter(lon, lat, c = 'black', s = 100, transform = crs)\n",
    "sc = plt.scatter(lon, lat, c = plot_var, s = 75, transform = crs, vmin = plot_var_min, vmax = plot_var_max)\n",
    "cb = plt.colorbar(sc, extend = 'both')\n",
    "cb.ax.tick_params(labelsize = fontsize) \n",
    "cb.ax.set_title(var_name, fontsize = fontsize)\n",
    "\n",
    "# Format gridlines\n",
    "gl = ax.gridlines(crs=crs, draw_labels=True,\n",
    "                  linewidth=2, color='white', alpha=0.5, linestyle='--')\n",
    "gl.top_labels = False\n",
    "gl.right_labels = False\n",
    "gl.xlines = False\n",
    "gl.ylines = False\n",
    "# gl.xlocator = mticker.FixedLocator([-180, -45, 0, 45, 180])\n",
    "gl.xformatter = LONGITUDE_FORMATTER\n",
    "gl.yformatter = LATITUDE_FORMATTER\n",
    "gl.xlabel_style = {'size': fontsize}#, 'color': 'gray'}\n",
    "gl.ylabel_style = {'size': fontsize}#, 'color': 'gray'}\n",
    "\n",
    "figname = filename + var_name+'.png'\n",
    "figpath = os.path.join('Figs', figname)\n",
    "# plt.savefig(figpath, dpi = 300) # (un)comment depending on preference for saving figure locally\n",
    "\n",
    "\n"
   ]
  },
  {
   "cell_type": "code",
   "execution_count": null,
   "id": "f93c088d-310d-4c20-bf72-c09fb417e16b",
   "metadata": {
    "tags": []
   },
   "outputs": [],
   "source": [
    "plt.scatter(df.lon, df.lat)\n"
   ]
  },
  {
   "cell_type": "markdown",
   "id": "db419f14-65e1-4fdb-916f-24f21f8fc88c",
   "metadata": {},
   "source": [
    "### Begin analyzing time-series data\n",
    "Comparison between the Drifter time series of pH and the YSI EXO2s sonde."
   ]
  },
  {
   "cell_type": "code",
   "execution_count": null,
   "id": "7789ab01-c7ec-45d7-a36c-9001a6015f8b",
   "metadata": {
    "tags": []
   },
   "outputs": [],
   "source": [
    "time = df['time']\n",
    "ph = df['pH'] - 0.33\n",
    "YSItime = YSIdf['Time']\n",
    "YSIph = YSIdf['pH'] + 2.4 # Adding 2.4 to bring the YSI pH reading closer to drifters since YSI pH probe was not calibrated\n",
    "\n",
    "hours_to_add = 5 # Adding 5 hours to convert from EST to UTC to put the YSI in \"correct\" time zone\n",
    "YSItime = YSItime + pd.Timedelta(hours= hours_to_add)\n",
    "\n",
    "Drifter_hours_to_subract = 1\n",
    "Years_to_subract= 55\n",
    "months_to_add= 2\n",
    "time = time + pd.Timedelta(hours = -480243)\n",
    "\n",
    "plt.rcParams.update({'font.size':22}) #font size\n",
    "fig, axs = plt.subplots(figsize = (10,8)) # PJB: explicitly create graph objects for subsequent access\n",
    "\n",
    "plt.plot(time,ph, label = \"Drifter\")\n",
    "plt.plot(YSItime,YSIph, label = \"YSI\")\n",
    "plt.title('pH over time')\n",
    "plt.xlabel('Time')\n",
    "plt.ylabel('pH')\n",
    "axs.legend()\n",
    "fig.autofmt_xdate()\n",
    "\n",
    "# PJB: Stephen, add legend to graph\n"
   ]
  },
  {
   "cell_type": "markdown",
   "id": "879b79df-203c-447f-82ba-61155fa0179a",
   "metadata": {},
   "source": [
    "### Analyze and visualize dissolved oxygen\n",
    "Plot the DO measured by the drifter to that of the YSI EXO2s to determine the quality of the drifters readings"
   ]
  },
  {
   "cell_type": "code",
   "execution_count": null,
   "id": "ddd3193a-b819-49d8-a08d-a83fd7ce22d9",
   "metadata": {
    "tags": []
   },
   "outputs": [],
   "source": [
    "DO = df['DO (mg/L)']  #Use +5.9 as a one point calibration correction for the Drifter (DO(salt) = DO * k * S(ppt)\n",
    "YSIDO = YSIdf['ODO mg/L'] \n",
    "\n",
    "plt.rcParams.update({'font.size':22}) #font size\n",
    "fig, axs = plt.subplots(figsize = (10,8)) # PJB: explicitly create graph objects for subsequent access\n",
    "plt.plot(time,DO, label = 'Drifter')\n",
    "plt.plot(YSItime, YSIDO, label = 'YSI EXO2s')\n",
    "plt.title('DO over time')\n",
    "plt.xlabel('Time')\n",
    "plt.ylabel('DO (mg/L)')\n",
    "axs.legend()\n",
    "fig.autofmt_xdate()"
   ]
  },
  {
   "cell_type": "code",
   "execution_count": null,
   "id": "ee3091dd-1ee0-4e57-b29e-c5a2565cf15d",
   "metadata": {
    "tags": []
   },
   "outputs": [],
   "source": [
    "temp = df['Temperature (C)'] -3.6 #correct the temperature probe as much as possible \n",
    "YSItemp = YSIdf['Temp °C']\n",
    "\n",
    "plt.rcParams.update({'font.size':22}) #font size\n",
    "fig, axs = plt.subplots(figsize = (10,8)) # PJB: explicitly create graph objects for subsequent access\n",
    "plt.plot(time,temp, label = 'Drifter')\n",
    "plt.plot(YSItime,YSItemp, label = 'YSI EXO2s')\n",
    "plt.title('Temperature over time')\n",
    "plt.xlabel('Time')\n",
    "plt.ylabel('Temperature (C)')\n",
    "axs.legend()\n",
    "fig.autofmt_xdate()"
   ]
  },
  {
   "cell_type": "code",
   "execution_count": null,
   "id": "44cc1c2e-93d6-445d-b60f-ae589545b9a1",
   "metadata": {
    "tags": []
   },
   "outputs": [],
   "source": [
    "spcond = df['Conductivity (uS/cm)'] +20000 #point calibration for drifter\n",
    "YSIspcond = YSIdf['SpCond µS/cm']\n",
    "\n",
    "plt.rcParams.update({'font.size':22}) #font size\n",
    "fig, axs = plt.subplots(figsize = (10,8)) # PJB: explicitly create graph objects for subsequent access\n",
    "plt.plot(time,spcond, label = 'Drifter')\n",
    "plt.plot(YSItime,YSIspcond, label = 'YSI EXO2s')\n",
    "plt.title('Specific Conductivity over time')\n",
    "plt.xlabel('Time')\n",
    "plt.ylabel('Specific Conductivity (uS/cm)')\n",
    "axs.legend()\n",
    "fig.autofmt_xdate()"
   ]
  },
  {
   "cell_type": "code",
   "execution_count": null,
   "id": "05681afd-431b-48fe-8689-cf6ceae272d4",
   "metadata": {
    "tags": []
   },
   "outputs": [],
   "source": [
    "#interpolation section\n",
    "\n",
    "Drifter_on_YSI_time = np.interp(YSItime, # new timestamp\n",
    "                                        df.loc[:, 'time'],         # old timestamp\n",
    "                                        df.loc[:, 'DO (mg/L)'],   # old data\n",
    "                                        left = np.nan, right = np.nan)\n",
    "\n",
    "Drifter_minus_YSI_anomaly = Drifter_on_YSI_time-YSIdf.loc[:, 'ODO mg/L']\n",
    "\n",
    "Drifter_on_YSI_time"
   ]
  },
  {
   "cell_type": "markdown",
   "id": "059aea8a-eb68-4c0e-80a2-06eb24e7f479",
   "metadata": {},
   "source": [
    "### NOTE: \n",
    "Cutting rmse calculation, print statement, and plotting out of cell above and into new cell below. Given hard to understand results (i.e., \"nan\"), print out variables to examine in more detail before proceeding with analysis.\n",
    "\n",
    "First variable I printed as output to cell above (`Drifter_on_YSI_time`) suggests that it *might* be filled with NaNs. We'd want to dig deeper to confirm whether it was *all* NaNs or just some, but without going further down that route, I can immediately see an issue with the timestamps that you are using here. You created a new time variable for the YSI above to align it with the Drifter's time(zone) but then didn't use it here! Use the matching/aligned times here next and see what happens."
   ]
  },
  {
   "cell_type": "code",
   "execution_count": null,
   "id": "f25f824f-2e84-483b-aa40-c38c8d62b7ed",
   "metadata": {
    "tags": []
   },
   "outputs": [],
   "source": [
    "rmse_drifter = np.sqrt(np.sum((Drifter_minus_YSI_anomaly)**2)/(len(Drifter_minus_YSI_anomaly)))\n",
    "\n",
    "print(np.nanmean(Drifter_minus_YSI_anomaly), np.nanstd(Drifter_minus_YSI_anomaly), rmse_drifter)\n",
    "\n",
    "plt.rcParams.update({'font.size': 22})\n",
    "fig, axs = plt.subplots(figsize=(20, 15), nrows = 2, sharex = True)\n",
    "\n",
    "# Plot YSI EXO2s oxygen data\n",
    "axs[0].plot(YSItime, YSIdf.loc[:, 'ODO mg/L'], '-', label=\"YSI EXO2s\", linewidth=5)\n",
    "\n",
    "# Plot Drifter DO data\n",
    "axs[0].plot(df.loc[:, 'time'], df.loc[:, 'DO (mg/L)'], 'ro', label=\"Drifter\", markersize = 5)"
   ]
  },
  {
   "cell_type": "markdown",
   "id": "d9c050a9-c054-498f-be31-acaa6af87f89",
   "metadata": {},
   "source": [
    "### Describe\n",
    "After repeating this for your variables of interest, describe what you see and what could be going on. Dig deeper into the sensor manuals (especially the Atlas sensors) to (1) confirm you're comparing apples to apples (e.g., conductivity to conductivity, not conductivity to specific conductivity, for instance), (2) understand why there might be offsets/differing variability, (3) determine whether more can be done to get the values to come closer to agreeing. For (3), examples might include: additional calculations to ensure you're comparing apples to apples, calibration checks following Atlas's recommendations or other options that we can discuss, etc. "
   ]
  },
  {
   "cell_type": "code",
   "execution_count": null,
   "id": "20e4e054-7674-433d-91c2-d7810fc07855",
   "metadata": {},
   "outputs": [],
   "source": [
    "\n",
    "r = 0.0191 #taken from https://in-situ.com/uk/pub/media/support/documents/Specific-Conductance-as-an-Output-Unit-for-Conductivity-Readings-Tech-Note.pdf?srsltid=AfmBOorCrC34rz2-u7FivCA1360XG7FOcGRU4EQ4-8JsYUYBz3V8cfu0\n",
    "acond = spcond*(1+r*(temp-25))\n",
    "YSIcond = YSIdf['Cond µS/cm']\n",
    "\n",
    "plt.rcParams.update({'font.size':22}) #font size\n",
    "fig, axs = plt.subplots(figsize = (10,8)) # PJB: explicitly create graph objects for subsequent access\n",
    "plt.plot(time,acond, label = 'Drifter')\n",
    "plt.plot(YSItime,YSIcond, label = 'YSI EXO2s')\n",
    "plt.title('Conductivity over time')\n",
    "plt.xlabel('Time')\n",
    "plt.ylabel('Conductivity (uS/cm)')\n",
    "axs.legend()\n",
    "fig.autofmt_xdate()\n",
    "\n",
    "\n",
    "\n",
    "                "
   ]
  },
  {
   "cell_type": "code",
   "execution_count": null,
   "id": "228ccdb6-33ee-4d08-be25-3c1ede45f01f",
   "metadata": {
    "scrolled": true
   },
   "outputs": [],
   "source": [
    "### YSI vs Drifter correlation\n",
    "YSIcond_reduced = YSIcond[::2]\n",
    "\n",
    "plt.rcParams.update({'font.size':22}) #font size\n",
    "fig, axs = plt.subplots(figsize = (5,4)) # PJB: explicitly create graph objects for subsequent access\n",
    "plt.plot(acond,YSIcond_reduced, '.')\n",
    "\n",
    "plt.title('Drifter vs YSI Conductivity')\n",
    "plt.xlabel('Drifter')\n",
    "plt.ylabel('YSI')\n"
   ]
  },
  {
   "cell_type": "code",
   "execution_count": null,
   "id": "1268c7e5-8a33-46ce-a268-6740c7b9bfac",
   "metadata": {},
   "outputs": [],
   "source": [
    "###DO with salinity correction\n",
    "Sal = (0.7317 * (acond/1000)) - 3.7635\n",
    "k = 0.85\n",
    "DOsal = DO * k\n",
    "\n",
    "\n",
    "plt.rcParams.update({'font.size':22}) #font size\n",
    "fig, axs = plt.subplots(figsize = (10,8)) # PJB: explicitly create graph objects for subsequent access\n",
    "plt.plot(time,DOsal, label = 'Drifter')\n",
    "plt.plot(YSItime,YSIDO, label = 'YSI EXO2s')\n",
    "plt.title('Salinity corrected DO over time')\n",
    "plt.xlabel('Time')\n",
    "plt.ylabel('DO mg/L')\n",
    "axs.legend()\n",
    "fig.autofmt_xdate()"
   ]
  }
 ],
 "metadata": {
  "kernelspec": {
   "display_name": "Python 3 (ipykernel)",
   "language": "python",
   "name": "python3"
  },
  "language_info": {
   "codemirror_mode": {
    "name": "ipython",
    "version": 3
   },
   "file_extension": ".py",
   "mimetype": "text/x-python",
   "name": "python",
   "nbconvert_exporter": "python",
   "pygments_lexer": "ipython3",
   "version": "3.11.7"
  }
 },
 "nbformat": 4,
 "nbformat_minor": 5
}
