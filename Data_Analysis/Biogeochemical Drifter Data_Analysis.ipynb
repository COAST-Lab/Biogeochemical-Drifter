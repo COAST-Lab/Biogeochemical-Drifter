{
 "cells": [
  {
   "cell_type": "markdown",
   "id": "771b89fe-fb1d-4c40-bd30-97331f709aad",
   "metadata": {},
   "source": [
    "<h1 style = \"font-size:3rem;color:blue;\"> Drifter Data Analysis</h1>\n",
    "\n"
   ]
  },
  {
   "cell_type": "markdown",
   "id": "7277d2e9-2f9e-4c1e-b323-a8a4c4a40f87",
   "metadata": {},
   "source": [
    "Data formatting for Biogeochemical Drifter field observations\n"
   ]
  },
  {
   "cell_type": "code",
   "execution_count": 3,
   "id": "cf6f5558-7de6-4939-9401-2377ed456259",
   "metadata": {},
   "outputs": [],
   "source": [
    "import pandas as pd\n",
    "import numpy as np\n",
    "import os\n",
    "import matplotlib.pyplot as plt\n",
    "import datetime\n",
    "\n",
    "import cartopy.crs as ccrs\n",
    "import cartopy.io.img_tiles as cimgt\n",
    "from cartopy.mpl.gridliner import LONGITUDE_FORMATTER, LATITUDE_FORMATTER"
   ]
  },
  {
   "cell_type": "markdown",
   "id": "ebdfc4b4-1313-4f7d-8f72-51dfca3579f4",
   "metadata": {},
   "source": [
    "Read in data and parse by column header\n"
   ]
  },
  {
   "cell_type": "code",
   "execution_count": 6,
   "id": "51816ca7-726a-471d-ad39-e8a2824a36f4",
   "metadata": {},
   "outputs": [
    {
     "name": "stderr",
     "output_type": "stream",
     "text": [
      "C:\\Users\\thoma\\AppData\\Local\\Temp\\ipykernel_15364\\1467310119.py:7: FutureWarning: Support for nested sequences for 'parse_dates' in pd.read_csv is deprecated. Combine the desired columns with pd.to_datetime after parsing instead.\n",
      "  df = pd.read_csv(filepath, parse_dates = [[0, 1]], header = None)\n",
      "C:\\Users\\thoma\\AppData\\Local\\Temp\\ipykernel_15364\\1467310119.py:7: UserWarning: Could not infer format, so each element will be parsed individually, falling back to `dateutil`. To ensure parsing is consistent and as-expected, please specify a format.\n",
      "  df = pd.read_csv(filepath, parse_dates = [[0, 1]], header = None)\n"
     ]
    },
    {
     "data": {
      "text/html": [
       "<div>\n",
       "<style scoped>\n",
       "    .dataframe tbody tr th:only-of-type {\n",
       "        vertical-align: middle;\n",
       "    }\n",
       "\n",
       "    .dataframe tbody tr th {\n",
       "        vertical-align: top;\n",
       "    }\n",
       "\n",
       "    .dataframe thead th {\n",
       "        text-align: right;\n",
       "    }\n",
       "</style>\n",
       "<table border=\"1\" class=\"dataframe\">\n",
       "  <thead>\n",
       "    <tr style=\"text-align: right;\">\n",
       "      <th></th>\n",
       "      <th>time</th>\n",
       "      <th>elapsed time (sec)</th>\n",
       "      <th>lat_raw</th>\n",
       "      <th>N or S</th>\n",
       "      <th>lon_raw</th>\n",
       "      <th>E or W</th>\n",
       "      <th>altitude</th>\n",
       "      <th>speed</th>\n",
       "      <th>angle</th>\n",
       "      <th>pH</th>\n",
       "      <th>Temperature (C)</th>\n",
       "      <th>DO (mg/L)</th>\n",
       "      <th>Conductivity (uS/cm)</th>\n",
       "    </tr>\n",
       "  </thead>\n",
       "  <tbody>\n",
       "    <tr>\n",
       "      <th>0</th>\n",
       "      <td>11/6/2024 34:24.1</td>\n",
       "      <td>158</td>\n",
       "      <td>3408.40186</td>\n",
       "      <td>N</td>\n",
       "      <td>7751.75391</td>\n",
       "      <td>W</td>\n",
       "      <td>-36.8</td>\n",
       "      <td>0.38</td>\n",
       "      <td>261.94</td>\n",
       "      <td>0.19</td>\n",
       "      <td>27.84</td>\n",
       "      <td>8.80</td>\n",
       "      <td>0</td>\n",
       "    </tr>\n",
       "    <tr>\n",
       "      <th>1</th>\n",
       "      <td>11/6/2024 34:25.1</td>\n",
       "      <td>160</td>\n",
       "      <td>3408.40137</td>\n",
       "      <td>N</td>\n",
       "      <td>7751.75391</td>\n",
       "      <td>W</td>\n",
       "      <td>-35.8</td>\n",
       "      <td>0.21</td>\n",
       "      <td>261.94</td>\n",
       "      <td>0.19</td>\n",
       "      <td>27.84</td>\n",
       "      <td>8.80</td>\n",
       "      <td>0</td>\n",
       "    </tr>\n",
       "    <tr>\n",
       "      <th>2</th>\n",
       "      <td>11/6/2024 34:28.0</td>\n",
       "      <td>162</td>\n",
       "      <td>3408.40161</td>\n",
       "      <td>N</td>\n",
       "      <td>7751.75391</td>\n",
       "      <td>W</td>\n",
       "      <td>-34.6</td>\n",
       "      <td>0.37</td>\n",
       "      <td>261.94</td>\n",
       "      <td>0.25</td>\n",
       "      <td>27.71</td>\n",
       "      <td>8.78</td>\n",
       "      <td>0</td>\n",
       "    </tr>\n",
       "    <tr>\n",
       "      <th>3</th>\n",
       "      <td>11/6/2024 34:30.0</td>\n",
       "      <td>164</td>\n",
       "      <td>3408.40137</td>\n",
       "      <td>N</td>\n",
       "      <td>7751.75342</td>\n",
       "      <td>W</td>\n",
       "      <td>-33.0</td>\n",
       "      <td>0.38</td>\n",
       "      <td>261.94</td>\n",
       "      <td>0.31</td>\n",
       "      <td>27.71</td>\n",
       "      <td>8.78</td>\n",
       "      <td>0</td>\n",
       "    </tr>\n",
       "    <tr>\n",
       "      <th>4</th>\n",
       "      <td>11/6/2024 34:32.0</td>\n",
       "      <td>166</td>\n",
       "      <td>3408.40112</td>\n",
       "      <td>N</td>\n",
       "      <td>7751.75342</td>\n",
       "      <td>W</td>\n",
       "      <td>-32.0</td>\n",
       "      <td>0.15</td>\n",
       "      <td>261.94</td>\n",
       "      <td>0.46</td>\n",
       "      <td>27.70</td>\n",
       "      <td>8.78</td>\n",
       "      <td>0</td>\n",
       "    </tr>\n",
       "  </tbody>\n",
       "</table>\n",
       "</div>"
      ],
      "text/plain": [
       "                time  elapsed time (sec)     lat_raw N or S     lon_raw  \\\n",
       "0  11/6/2024 34:24.1                 158  3408.40186      N  7751.75391   \n",
       "1  11/6/2024 34:25.1                 160  3408.40137      N  7751.75391   \n",
       "2  11/6/2024 34:28.0                 162  3408.40161      N  7751.75391   \n",
       "3  11/6/2024 34:30.0                 164  3408.40137      N  7751.75342   \n",
       "4  11/6/2024 34:32.0                 166  3408.40112      N  7751.75342   \n",
       "\n",
       "  E or W  altitude  speed   angle    pH  Temperature (C)  DO (mg/L)  \\\n",
       "0      W     -36.8   0.38  261.94  0.19            27.84       8.80   \n",
       "1      W     -35.8   0.21  261.94  0.19            27.84       8.80   \n",
       "2      W     -34.6   0.37  261.94  0.25            27.71       8.78   \n",
       "3      W     -33.0   0.38  261.94  0.31            27.71       8.78   \n",
       "4      W     -32.0   0.15  261.94  0.46            27.70       8.78   \n",
       "\n",
       "   Conductivity (uS/cm)  \n",
       "0                     0  \n",
       "1                     0  \n",
       "2                     0  \n",
       "3                     0  \n",
       "4                     0  "
      ]
     },
     "execution_count": 6,
     "metadata": {},
     "output_type": "execute_result"
    }
   ],
   "source": [
    "filename = '24110600_truncate'\n",
    "\n",
    "fullname = filename+'.csv'\n",
    "\n",
    "filepath = os.path.join('D:', fullname)\n",
    "\n",
    "df = pd.read_csv(filepath, parse_dates = [[0, 1]], header = None)\n",
    "\n",
    "df.columns = ['time', 'elapsed time (sec)', 'lat_raw', 'N or S', 'lon_raw', 'E or W', 'altitude', 'speed', 'angle', 'pH', 'Temperature (C)', 'DO (mg/L)', 'Conductivity (uS/cm)']\n",
    "\n",
    "df.head()"
   ]
  },
  {
   "cell_type": "code",
   "execution_count": 8,
   "id": "2fc16777-1974-44f5-bab3-fa90cf336285",
   "metadata": {},
   "outputs": [
    {
     "data": {
      "text/plain": [
       "RangeIndex(start=0, stop=31437, step=1)"
      ]
     },
     "execution_count": 8,
     "metadata": {},
     "output_type": "execute_result"
    }
   ],
   "source": [
    "df.index"
   ]
  },
  {
   "cell_type": "code",
   "execution_count": 10,
   "id": "8bbb6ec0-1d15-4bdc-a76d-7f6664a956a1",
   "metadata": {},
   "outputs": [
    {
     "data": {
      "text/html": [
       "<div>\n",
       "<style scoped>\n",
       "    .dataframe tbody tr th:only-of-type {\n",
       "        vertical-align: middle;\n",
       "    }\n",
       "\n",
       "    .dataframe tbody tr th {\n",
       "        vertical-align: top;\n",
       "    }\n",
       "\n",
       "    .dataframe thead th {\n",
       "        text-align: right;\n",
       "    }\n",
       "</style>\n",
       "<table border=\"1\" class=\"dataframe\">\n",
       "  <thead>\n",
       "    <tr style=\"text-align: right;\">\n",
       "      <th></th>\n",
       "      <th>time</th>\n",
       "      <th>elapsed time (sec)</th>\n",
       "      <th>lat_raw</th>\n",
       "      <th>N or S</th>\n",
       "      <th>lon_raw</th>\n",
       "      <th>E or W</th>\n",
       "      <th>altitude</th>\n",
       "      <th>speed</th>\n",
       "      <th>angle</th>\n",
       "      <th>pH</th>\n",
       "      <th>Temperature (C)</th>\n",
       "      <th>DO (mg/L)</th>\n",
       "      <th>Conductivity (uS/cm)</th>\n",
       "      <th>lat</th>\n",
       "      <th>lon</th>\n",
       "    </tr>\n",
       "  </thead>\n",
       "  <tbody>\n",
       "    <tr>\n",
       "      <th>0</th>\n",
       "      <td>11/6/2024 34:24.1</td>\n",
       "      <td>158</td>\n",
       "      <td>3408.40186</td>\n",
       "      <td>N</td>\n",
       "      <td>7751.75391</td>\n",
       "      <td>W</td>\n",
       "      <td>-36.8</td>\n",
       "      <td>0.38</td>\n",
       "      <td>261.94</td>\n",
       "      <td>0.19</td>\n",
       "      <td>27.84</td>\n",
       "      <td>8.80</td>\n",
       "      <td>0</td>\n",
       "      <td>34.140031</td>\n",
       "      <td>-77.862565</td>\n",
       "    </tr>\n",
       "    <tr>\n",
       "      <th>1</th>\n",
       "      <td>11/6/2024 34:25.1</td>\n",
       "      <td>160</td>\n",
       "      <td>3408.40137</td>\n",
       "      <td>N</td>\n",
       "      <td>7751.75391</td>\n",
       "      <td>W</td>\n",
       "      <td>-35.8</td>\n",
       "      <td>0.21</td>\n",
       "      <td>261.94</td>\n",
       "      <td>0.19</td>\n",
       "      <td>27.84</td>\n",
       "      <td>8.80</td>\n",
       "      <td>0</td>\n",
       "      <td>34.140023</td>\n",
       "      <td>-77.862565</td>\n",
       "    </tr>\n",
       "    <tr>\n",
       "      <th>2</th>\n",
       "      <td>11/6/2024 34:28.0</td>\n",
       "      <td>162</td>\n",
       "      <td>3408.40161</td>\n",
       "      <td>N</td>\n",
       "      <td>7751.75391</td>\n",
       "      <td>W</td>\n",
       "      <td>-34.6</td>\n",
       "      <td>0.37</td>\n",
       "      <td>261.94</td>\n",
       "      <td>0.25</td>\n",
       "      <td>27.71</td>\n",
       "      <td>8.78</td>\n",
       "      <td>0</td>\n",
       "      <td>34.140027</td>\n",
       "      <td>-77.862565</td>\n",
       "    </tr>\n",
       "    <tr>\n",
       "      <th>3</th>\n",
       "      <td>11/6/2024 34:30.0</td>\n",
       "      <td>164</td>\n",
       "      <td>3408.40137</td>\n",
       "      <td>N</td>\n",
       "      <td>7751.75342</td>\n",
       "      <td>W</td>\n",
       "      <td>-33.0</td>\n",
       "      <td>0.38</td>\n",
       "      <td>261.94</td>\n",
       "      <td>0.31</td>\n",
       "      <td>27.71</td>\n",
       "      <td>8.78</td>\n",
       "      <td>0</td>\n",
       "      <td>34.140023</td>\n",
       "      <td>-77.862557</td>\n",
       "    </tr>\n",
       "    <tr>\n",
       "      <th>4</th>\n",
       "      <td>11/6/2024 34:32.0</td>\n",
       "      <td>166</td>\n",
       "      <td>3408.40112</td>\n",
       "      <td>N</td>\n",
       "      <td>7751.75342</td>\n",
       "      <td>W</td>\n",
       "      <td>-32.0</td>\n",
       "      <td>0.15</td>\n",
       "      <td>261.94</td>\n",
       "      <td>0.46</td>\n",
       "      <td>27.70</td>\n",
       "      <td>8.78</td>\n",
       "      <td>0</td>\n",
       "      <td>34.140019</td>\n",
       "      <td>-77.862557</td>\n",
       "    </tr>\n",
       "  </tbody>\n",
       "</table>\n",
       "</div>"
      ],
      "text/plain": [
       "                time  elapsed time (sec)     lat_raw N or S     lon_raw  \\\n",
       "0  11/6/2024 34:24.1                 158  3408.40186      N  7751.75391   \n",
       "1  11/6/2024 34:25.1                 160  3408.40137      N  7751.75391   \n",
       "2  11/6/2024 34:28.0                 162  3408.40161      N  7751.75391   \n",
       "3  11/6/2024 34:30.0                 164  3408.40137      N  7751.75342   \n",
       "4  11/6/2024 34:32.0                 166  3408.40112      N  7751.75342   \n",
       "\n",
       "  E or W  altitude  speed   angle    pH  Temperature (C)  DO (mg/L)  \\\n",
       "0      W     -36.8   0.38  261.94  0.19            27.84       8.80   \n",
       "1      W     -35.8   0.21  261.94  0.19            27.84       8.80   \n",
       "2      W     -34.6   0.37  261.94  0.25            27.71       8.78   \n",
       "3      W     -33.0   0.38  261.94  0.31            27.71       8.78   \n",
       "4      W     -32.0   0.15  261.94  0.46            27.70       8.78   \n",
       "\n",
       "   Conductivity (uS/cm)        lat        lon  \n",
       "0                     0  34.140031 -77.862565  \n",
       "1                     0  34.140023 -77.862565  \n",
       "2                     0  34.140027 -77.862565  \n",
       "3                     0  34.140023 -77.862557  \n",
       "4                     0  34.140019 -77.862557  "
      ]
     },
     "execution_count": 10,
     "metadata": {},
     "output_type": "execute_result"
    }
   ],
   "source": [
    "# GPS spits out lat DDMM.MMMM, lon DDDMM.MMMM, so additional processing required\n",
    "def lat_convert(lat_badfmt):\n",
    "    lat_badfmt = str(lat_badfmt)\n",
    "    lat_DD = int(float(lat_badfmt)/100) # get DDD part\n",
    "    lat_MM = float(lat_badfmt)-lat_DD*100 # get MM.MMM part\n",
    "    lat_deg = float(lat_DD)+float(lat_MM)/60 # add minutes divided by 60 to degrees\n",
    "    return lat_deg\n",
    "\n",
    "def lon_convert(lon_badfmt):\n",
    "    lon_badfmt = str(lon_badfmt)\n",
    "    lon_DD = int(float(lon_badfmt)/100) # get DDD part\n",
    "    lon_MM = float(lon_badfmt)-lon_DD*100 # get MM.MMM part\n",
    "    lon_deg = float(lon_DD)+float(lon_MM)/60 # add minutes divided by 60 to degrees\n",
    "    return lon_deg\n",
    "\n",
    "# Do the conversion on real data\n",
    "df['lat'] = df['lat_raw'].apply(lat_convert)\n",
    "df['lon'] = df['lon_raw'].apply(lon_convert)\n",
    "\n",
    "# South should be negative\n",
    "south = df['N or S'] == 'S'\n",
    "df.loc[south, 'lat'] *= -1 \n",
    "\n",
    "# West should be negative\n",
    "west = df['E or W'] == 'W'\n",
    "df.loc[west, 'lon'] *= -1 \n",
    "\n",
    "# Take a look\n",
    "df.head()"
   ]
  },
  {
   "cell_type": "code",
   "execution_count": 12,
   "id": "a76408ca-a70a-4cbd-8577-3996e729ecd8",
   "metadata": {},
   "outputs": [
    {
     "data": {
      "text/plain": [
       "Index(['time', 'elapsed time (sec)', 'lat_raw', 'N or S', 'lon_raw', 'E or W',\n",
       "       'altitude', 'speed', 'angle', 'pH', 'Temperature (C)', 'DO (mg/L)',\n",
       "       'Conductivity (uS/cm)', 'lat', 'lon'],\n",
       "      dtype='object')"
      ]
     },
     "execution_count": 12,
     "metadata": {},
     "output_type": "execute_result"
    }
   ],
   "source": [
    "df.columns"
   ]
  },
  {
   "cell_type": "code",
   "execution_count": 14,
   "id": "79ca900f-9802-4079-b10c-0e6260d101d5",
   "metadata": {},
   "outputs": [],
   "source": [
    "# lon = df['lon']\n",
    "# lat = df['lat']\n",
    "# # def plot_gps_points(lon, lat):\n",
    "# fig, ax = plt.subplots(subplot_kw={'projection': ccrs.PlateCarree()}) \n",
    "# stamen_terrain = cimgt.Stamen('terrain')\n",
    "# ax.add_image(stamen_terrain, 8)\n",
    "\n",
    "# # Plot the GPS points\n",
    "# ax.plot(lon, lat, 'bo', markersize=5, transform=ccrs.PlateCarree())\n",
    "\n",
    "# # Add gridlines\n",
    "# gl = ax.gridlines(draw_labels=True)\n",
    "# gl.xlabels_top = False\n",
    "# gl.ylabels_right = False\n",
    "# gl.xformatter = LONGITUDE_FORMATTER\n",
    "# gl.yformatter = LATITUDE_FORMATTER\n",
    "\n",
    "\n"
   ]
  },
  {
   "cell_type": "code",
   "execution_count": 16,
   "id": "f93c088d-310d-4c20-bf72-c09fb417e16b",
   "metadata": {},
   "outputs": [],
   "source": [
    "# plt.scatter(df.lon, df.lat)\n",
    "# plt.ylim((34.138,34.142))\n",
    "# plt.xlim((-77.862,-77.863))"
   ]
  },
  {
   "cell_type": "code",
   "execution_count": 18,
   "id": "7789ab01-c7ec-45d7-a36c-9001a6015f8b",
   "metadata": {},
   "outputs": [
    {
     "data": {
      "image/png": "[encoded data removed]",
      "text/plain": [
       "<Figure size 640x480 with 1 Axes>"
      ]
     },
     "metadata": {},
     "output_type": "display_data"
    }
   ],
   "source": [
    "\n",
    "ph_threshold = 7\n",
    "df_filtered = df[df['pH'] >= ph_threshold]\n",
    "time= df_filtered['time']\n",
    "ph = df_filtered['pH']\n",
    "\n",
    "fig, axs = plt.subplots()\n",
    "axs.plot(time,ph)\n",
    "axs.set_title('pH over time')\n",
    "axs.set_xlabel('Time')\n",
    "axs.set_ylabel('pH')\n",
    "\n",
    "fig.autofmt_xdate()"
   ]
  },
  {
   "cell_type": "code",
   "execution_count": null,
   "id": "ddd3193a-b819-49d8-a08d-a83fd7ce22d9",
   "metadata": {},
   "outputs": [],
   "source": [
    "DO = df_filtered['DO (mg/L)']\n",
    "\n",
    "fig, axs = plt.subplots()\n",
    "axs.plot(time,DO)\n",
    "axs.set_title('DO over time')\n",
    "axs.set_xlabel('Time')\n",
    "axs.set_ylabel('DO (mg/L)')\n",
    "\n",
    "fig.autofmt_xdate()"
   ]
  },
  {
   "cell_type": "code",
   "execution_count": null,
   "id": "ee3091dd-1ee0-4e57-b29e-c5a2565cf15d",
   "metadata": {},
   "outputs": [],
   "source": [
    "temp = df_filtered['Temperature (C)']\n",
    "\n",
    "plt.plot(time,temp)\n",
    "plt.title('Temperature over time')\n",
    "plt.xlabel('Time')\n",
    "plt.ylabel('Temperature (C)')"
   ]
  },
  {
   "cell_type": "code",
   "execution_count": null,
   "id": "939878eb-5acd-402e-87d5-83c8a1e528f7",
   "metadata": {},
   "outputs": [],
   "source": []
  },
  {
   "cell_type": "code",
   "execution_count": null,
   "id": "44cc1c2e-93d6-445d-b60f-ae589545b9a1",
   "metadata": {},
   "outputs": [],
   "source": [
    "cond = df_filtered['Conductivity (uS/cm)']\n",
    "\n",
    "plt.plot(time,cond)\n",
    "plt.title('Conductivity over time')\n",
    "plt.xlabel('Time')\n",
    "plt.ylabel('Conductivity (uS/cm)')"
   ]
  },
  {
   "cell_type": "code",
   "execution_count": null,
   "id": "41ee1526-4959-4e40-818f-950613e1af50",
   "metadata": {},
   "outputs": [],
   "source": [
    "# DO_mean = np.nanmean(DO)\n",
    "# DO_STD = np.nanstd(DO)\n",
    "# DOZ = ((DO-DO_mean)/DO_STD)\n",
    "\n",
    "# ph_mean = np.nanmean(ph)\n",
    "# ph_STD = np.nanstd(ph)\n",
    "# phZ = ((ph-ph_mean)/ph_STD)\n",
    "\n",
    "# DOph_correlation_coeff = ((DOZ*phZ)/(len(DOZ)-1))\n",
    "# DOZCorr = DOZ * DOph_correlation_coeff"
   ]
  },
  {
   "cell_type": "code",
   "execution_count": 1,
   "id": "3fc46210-6387-454d-a81a-e785d1d9bb48",
   "metadata": {},
   "outputs": [
    {
     "ename": "NameError",
     "evalue": "name 'plt' is not defined",
     "output_type": "error",
     "traceback": [
      "\u001b[1;31m---------------------------------------------------------------------------\u001b[0m",
      "\u001b[1;31mNameError\u001b[0m                                 Traceback (most recent call last)",
      "Cell \u001b[1;32mIn[1], line 1\u001b[0m\n\u001b[1;32m----> 1\u001b[0m plt\u001b[38;5;241m.\u001b[39mscatter(DOZ,phZ)\n\u001b[0;32m      2\u001b[0m plt\u001b[38;5;241m.\u001b[39mplot(DOZ, DOZCorr)\n\u001b[0;32m      3\u001b[0m plt\u001b[38;5;241m.\u001b[39mtitle(\u001b[38;5;124m'\u001b[39m\u001b[38;5;124mDO vs pH\u001b[39m\u001b[38;5;124m'\u001b[39m)\n",
      "\u001b[1;31mNameError\u001b[0m: name 'plt' is not defined"
     ]
    }
   ],
   "source": [
    "# plt.scatter(DOZ,phZ)\n",
    "# plt.plot(DOZ, DOZCorr)\n",
    "# plt.title('DO vs pH')\n",
    "# plt.xlabel('DO mg/L')\n",
    "# plt.ylabel('pH')"
   ]
  },
  {
   "cell_type": "code",
   "execution_count": null,
   "id": "1b31bc43-0cef-4eb1-9894-950ffd2c8bfc",
   "metadata": {},
   "outputs": [],
   "source": [
    "# plt.scatter(DO, temp)\n",
    "# plt.title('DO vs temp')\n",
    "# plt.xlabel('DO mg/L')\n",
    "# plt.ylabel('Temperature (C)')"
   ]
  },
  {
   "cell_type": "code",
   "execution_count": null,
   "id": "8b652bb0-4dec-4c8b-9047-0c927549e4ec",
   "metadata": {},
   "outputs": [],
   "source": [
    "# stamen_terrain = cimgt.Stamen('terrain-background')\n",
    "\n",
    "# # Create the map\n",
    "# fig = plt.figure(figsize=(10, 6))\n",
    "# ax = plt.axes(projection=ccrs.PlateCarree())\n",
    "# ax.add_image(stamen_terrain, 8)  # Adjust the zoom level as needed\n",
    "\n",
    "# # Plot GPS points\n",
    "# plt.scatter(lon, lat, color='red', s=50, transform=ccrs.PlateCarree(), label='GPS Points')\n",
    "# plt.legend()\n",
    "\n",
    "# # Add title and show plot\n",
    "# plt.title(\"GPS Points on Stamen Terrain Map\")\n",
    "# plt.show()"
   ]
  },
  {
   "cell_type": "code",
   "execution_count": null,
   "id": "64774ab9-5991-4735-873d-50edf1109041",
   "metadata": {},
   "outputs": [],
   "source": [
    "CORMP = 'CORMP_DATA_NOV6'\n",
    "fullCORMP = CORMP + '.csv'\n",
    "pathing = os.path.join('D:\\\\', fullCORMP)  # Ensuring path format is correct for Windows\n",
    "\n",
    "# Load the CSV file, assuming columns 0 and 1 are date and time columns\n",
    "Cdf = pd.read_csv(pathing, skiprows = 6, parse_dates= [0])\n",
    "\n",
    "# Rename columns, assuming the remaining column is 'DO'\n",
    "Cdf.columns = ['time', 'DO', 'Nothing']\n",
    "print(Cdf.head())"
   ]
  },
  {
   "cell_type": "code",
   "execution_count": null,
   "id": "f46d0cab-2a9f-4982-af01-c5fd9eabedbb",
   "metadata": {},
   "outputs": [],
   "source": [
    "cormptime = Cdf['time']\n",
    "cormpDO = Cdf['DO']\n",
    "# Ctdf = datetime.strptime('cormptime','%m/%d/%Y %I:%M:%S %p')\n",
    "# Ctime = Ctdf.strftime('%I:%M:%S %p')\n",
    "fig, axs = plt.subplots()\n",
    "\n",
    "plt.plot(df['time'],df['DO (mg/L)'])\n",
    "plt.plot(Cdf['time'],cormpDO)\n",
    "\n",
    "fig.autofmt_xdate()"
   ]
  },
  {
   "cell_type": "code",
   "execution_count": null,
   "id": "b9b2dc66-ec21-4c0d-87ba-d467c788cad6",
   "metadata": {},
   "outputs": [],
   "source": []
  },
  {
   "cell_type": "code",
   "execution_count": null,
   "id": "f52c7af8-08e1-4eb8-9bbd-c18365c7bcff",
   "metadata": {},
   "outputs": [],
   "source": []
  }
 ],
 "metadata": {
  "kernelspec": {
   "display_name": "Python 3 (ipykernel)",
   "language": "python",
   "name": "python3"
  },
  "language_info": {
   "codemirror_mode": {
    "name": "ipython",
    "version": 3
   },
   "file_extension": ".py",
   "mimetype": "text/x-python",
   "name": "python",
   "nbconvert_exporter": "python",
   "pygments_lexer": "ipython3",
   "version": "3.12.3"
  }
 },
 "nbformat": 4,
 "nbformat_minor": 5
}
